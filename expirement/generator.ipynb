{
 "cells": [
  {
   "cell_type": "markdown",
   "metadata": {},
   "source": [
    "# import necessary libraries "
   ]
  },
  {
   "cell_type": "code",
   "execution_count": 2,
   "metadata": {},
   "outputs": [],
   "source": [
    "import os \n",
    "import json \n",
    "import pandas as pd \n",
    "import traceback"
   ]
  },
  {
   "cell_type": "code",
   "execution_count": 3,
   "metadata": {},
   "outputs": [],
   "source": [
    "from langchain.chat_models import ChatOpenAI\n"
   ]
  },
  {
   "cell_type": "code",
   "execution_count": 6,
   "metadata": {},
   "outputs": [
    {
     "data": {
      "text/plain": [
       "True"
      ]
     },
     "execution_count": 6,
     "metadata": {},
     "output_type": "execute_result"
    }
   ],
   "source": [
    "from dotenv import load_dotenv\n",
    "\n",
    "load_dotenv()  #take environment variables from .env."
   ]
  },
  {
   "cell_type": "code",
   "execution_count": 7,
   "metadata": {},
   "outputs": [],
   "source": [
    "KEY=os.getenv(\"OPENAI_API_KEY\")"
   ]
  },
  {
   "cell_type": "code",
   "execution_count": 9,
   "metadata": {},
   "outputs": [],
   "source": [
    "llm=ChatOpenAI(openai_api_key=KEY,model_name = \"gpt-3.5-turbo\",temperature=0.3)"
   ]
  },
  {
   "cell_type": "code",
   "execution_count": 10,
   "metadata": {},
   "outputs": [],
   "source": [
    "from langchain.llms import OpenAI\n",
    "from langchain.prompts import PromptTemplate\n",
    "from langchain.chains import LLMChain\n",
    "from langchain.chains import SequentialChain\n",
    "from langchain.callbacks import get_openai_callback\n",
    "import PyPDF2"
   ]
  },
  {
   "cell_type": "code",
   "execution_count": 38,
   "metadata": {},
   "outputs": [],
   "source": [
    "RESPONSE_JSON = {\n",
    "    \"q1\":{\n",
    "        \"mcq\":\"Multiple Choice Question\",\n",
    "        \"options\":{\n",
    "            \"a\":\"choice here\",\n",
    "            \"b\":\"choice here\",\n",
    "            \"c\":\"choice here\",\n",
    "            \"d\":\"choice here\"   \n",
    "        },\n",
    "        \"correct\":\"correct answer \",\n",
    "    },\n",
    "    \"q2\":{\n",
    "        \"mcq\":\"Multiple Choice Question\",\n",
    "        \"options\":{\n",
    "            \"a\":\"choice here\",\n",
    "            \"b\":\"choice here\",\n",
    "            \"c\":\"choice here\",\n",
    "            \"d\":\"choice here\"   \n",
    "        },\n",
    "        \"correct\":\"correct answer \",\n",
    "    },\n",
    "    \"q3\":{\n",
    "        \"mcq\":\"Multiple Choice Question\",\n",
    "        \"options\":{\n",
    "            \"a\":\"choice here\",\n",
    "            \"b\":\"choice here\",\n",
    "            \"c\":\"choice here\",\n",
    "            \"d\":\"choice here\"   \n",
    "        },\n",
    "        \"correct\":\"correct answer \",\n",
    "    },\n",
    "    \"q4\":{\n",
    "        \"mcq\":\"Multiple Choice Question\",\n",
    "        \"options\":{\n",
    "            \"a\":\"choice here\",\n",
    "            \"b\":\"choice here\",\n",
    "            \"c\":\"choice here\",\n",
    "            \"d\":\"choice here\"   \n",
    "        },\n",
    "        \"correct\":\"correct answer \",\n",
    "    },\n",
    "    \"q5\":{\n",
    "        \"mcq\":\"Multiple Choice Question\",\n",
    "        \"options\":{\n",
    "            \"a\":\"choice here\",\n",
    "            \"b\":\"choice here\",\n",
    "            \"c\":\"choice here\",\n",
    "            \"d\":\"choice here\"   \n",
    "        },\n",
    "        \"correct\":\"correct answer \",\n",
    "    },\n",
    "    \n",
    "    \n",
    "    \n",
    "    \n",
    "    \n",
    "}"
   ]
  },
  {
   "cell_type": "code",
   "execution_count": 39,
   "metadata": {},
   "outputs": [],
   "source": [
    "TEMPLATE = \"\"\"\n",
    "Text:{text}\n",
    "You are an expert MCQ Generator. Generate MCQ based on the given text. is your job to create a quiz of {number} multiple choice questions for {subject} students in {tone}\\\n",
    "The number is {number}. The subject is {subject}. The tone is {tone}. Make sure the question are note repeated and check all the questions to be conforming the text as well\n",
    ",Make sure to format the response is like RESPONSE_JSON below and use it is as guide. \\\n",
    "Ensure to make {number} MCQs\n",
    "### RESPONSE_JSON\n",
    "{response_json}.\n",
    "\"\"\""
   ]
  },
  {
   "cell_type": "code",
   "execution_count": 40,
   "metadata": {},
   "outputs": [],
   "source": [
    "quiz_generation_prompt = PromptTemplate(\n",
    "    input_variables=[\"text\",\"number\",\"subject\",\"tone\",\"response_json\"],\n",
    "    template=TEMPLATE\n",
    ")"
   ]
  },
  {
   "cell_type": "code",
   "execution_count": 41,
   "metadata": {},
   "outputs": [],
   "source": [
    "quiz_chain=LLMChain(llm=llm,prompt=quiz_generation_prompt,output_key=\"quiz\",verbose=True)"
   ]
  },
  {
   "cell_type": "code",
   "execution_count": 42,
   "metadata": {},
   "outputs": [],
   "source": [
    "TEMPLATE2 = \"\"\"\n",
    "You are an expert english grammarian and writer,Given a Multiple Choice Quiz for {subject} students.\\\n",
    "You need to evaluate the complexity of the questions and give a complete analysis of the quiz.\\\n",
    "    Only use at most 50 words.\\\n",
    "        if the quiz is not at per the cognitive and analytical abilties of the students,\n",
    "        updates the quiz quiz questions which needs to changed and change the tone such that it perfectly fits the student abilities \n",
    "        Quiz:{quiz}\n",
    "        \n",
    "        Check from an expert English Writer of the above quiz:\n",
    "\"\"\""
   ]
  },
  {
   "cell_type": "code",
   "execution_count": 65,
   "metadata": {},
   "outputs": [],
   "source": [
    "quiz_evaluation_prompt=PromptTemplate(\n",
    "    input_variables=[\"quiz\",\"subject\"],\n",
    "    template=TEMPLATE\n",
    ")"
   ]
  },
  {
   "cell_type": "code",
   "execution_count": 66,
   "metadata": {},
   "outputs": [],
   "source": [
    "evaluation_chain =LLMChain(llm=llm,prompt=quiz_evaluation_prompt,output_key=\"evaluation\",verbose=True)"
   ]
  },
  {
   "cell_type": "code",
   "execution_count": 67,
   "metadata": {},
   "outputs": [],
   "source": [
    "final_chain = SequentialChain(\n",
    "    chains=[quiz_chain,evaluation_chain],\n",
    "    input_variables=[\"text\",\"number\",\"subject\",\"tone\",\"response_json\"],\n",
    "    output_variables=[\"quiz\",\"evaluation\"],\n",
    "    verbose=True\n",
    ")"
   ]
  },
  {
   "cell_type": "code",
   "execution_count": 68,
   "metadata": {},
   "outputs": [],
   "source": [
    "file_path=\"/Users/apple/Downloads/MCQGenerator-/data.txt\""
   ]
  },
  {
   "cell_type": "code",
   "execution_count": 69,
   "metadata": {},
   "outputs": [],
   "source": [
    "with open(file_path,\"r\") as file:\n",
    "    TEXT = file.read()"
   ]
  },
  {
   "cell_type": "code",
   "execution_count": 70,
   "metadata": {},
   "outputs": [],
   "source": [
    "# if you want to serialize the Python dictionary to JSON String \n",
    "json_str = json.dumps(RESPONSE_JSON)"
   ]
  },
  {
   "cell_type": "code",
   "execution_count": 71,
   "metadata": {},
   "outputs": [],
   "source": [
    "NUMBER=5,\n",
    "SUBJECT=\"Machine Learning\",\n",
    "TONE =\"MEDIUM\","
   ]
  },
  {
   "cell_type": "code",
   "execution_count": 72,
   "metadata": {},
   "outputs": [
    {
     "name": "stdout",
     "output_type": "stream",
     "text": [
      "\n",
      "\n",
      "\u001b[1m> Entering new SequentialChain chain...\u001b[0m\n",
      "\n",
      "\n",
      "\u001b[1m> Entering new LLMChain chain...\u001b[0m\n",
      "Prompt after formatting:\n",
      "\u001b[32;1m\u001b[1;3m\n",
      "Text:The term machine learning was coined in 1959 by Arthur Samuel, an IBM employee and pioneer in the field of computer gaming and artificial intelligence.[8][9] The synonym self-teaching computers was also used in this time period.[10][11]\n",
      "\n",
      "Although the earliest machine learning model was introduced in the 1950s when Arthur Samuel invented a program that calculated the winning chance in checkers for each side, the history of machine learning roots back to decades of human desire and effort to study human cognitive processes.[12] In 1949, Canadian psychologist Donald Hebb published the book The Organization of Behavior, in which he introduced a theoretical neural structure formed by certain interactions among nerve cells.[13] Hebb's model of neurons interacting with one another set a groundwork for how AIs and machine learning algorithms work under nodes, or artificial neurons used by computers to communicate data.[12] Other researchers who have studied human cognitive systems contributed to the modern machine learning technologies as well, including logician Walter Pitts and Warren McCulloch, who proposed the early mathematical models of neural networks to come up with algorithms that mirror human thought processes.[12]\n",
      "\n",
      "By the early 1960s an experimental \"learning machine\" with punched tape memory, called Cybertron, had been developed by Raytheon Company to analyze sonar signals, electrocardiograms, and speech patterns using rudimentary reinforcement learning. It was repetitively \"trained\" by a human operator/teacher to recognize patterns and equipped with a \"goof\" button to cause it to reevaluate incorrect decisions.[14] A representative book on research into machine learning during the 1960s was Nilsson's book on Learning Machines, dealing mostly with machine learning for pattern classification.[15] Interest related to pattern recognition continued into the 1970s, as described by Duda and Hart in 1973.[16] In 1981 a report was given on using teaching strategies so that an artificial neural network learns to recognize 40 characters (26 letters, 10 digits, and 4 special symbols) from a computer terminal.[17]\n",
      "\n",
      "Tom M. Mitchell provided a widely quoted, more formal definition of the algorithms studied in the machine learning field: \"A computer program is said to learn from experience E with respect to some class of tasks T and performance measure P if its performance at tasks in T, as measured by P, improves with experience E.\"[18] This definition of the tasks in which machine learning is concerned offers a fundamentally operational definition rather than defining the field in cognitive terms. This follows Alan Turing's proposal in his paper \"Computing Machinery and Intelligence\", in which the question \"Can machines think?\" is replaced with the question \"Can machines do what we (as thinking entities) can do?\".[19]\n",
      "\n",
      "Modern-day machine learning has two objectives. One is to classify data based on models which have been developed; the other purpose is to make predictions for future outcomes based on these models. A hypothetical algorithm specific to classifying data may use computer vision of moles coupled with supervised learning in order to train it to classify the cancerous moles. A machine learning algorithm for stock trading may inform the trader of future potential predictions.[20]\n",
      "You are an expert MCQ Generator. Generate MCQ based on the given text. is your job to create a quiz of (5,) multiple choice questions for ('Machine Learning',) students in ('MEDIUM',)The number is (5,). The subject is ('Machine Learning',). The tone is ('MEDIUM',). Make sure the question are note repeated and check all the questions to be conforming the text as well\n",
      ",Make sure to format the response is like RESPONSE_JSON below and use it is as guide. Ensure to make (5,) MCQs\n",
      "### RESPONSE_JSON\n",
      "{\"q1\": {\"mcq\": \"Multiple Choice Question\", \"options\": {\"a\": \"choice here\", \"b\": \"choice here\", \"c\": \"choice here\", \"d\": \"choice here\"}, \"correct\": \"correct answer \"}, \"q2\": {\"mcq\": \"Multiple Choice Question\", \"options\": {\"a\": \"choice here\", \"b\": \"choice here\", \"c\": \"choice here\", \"d\": \"choice here\"}, \"correct\": \"correct answer \"}, \"q3\": {\"mcq\": \"Multiple Choice Question\", \"options\": {\"a\": \"choice here\", \"b\": \"choice here\", \"c\": \"choice here\", \"d\": \"choice here\"}, \"correct\": \"correct answer \"}, \"q4\": {\"mcq\": \"Multiple Choice Question\", \"options\": {\"a\": \"choice here\", \"b\": \"choice here\", \"c\": \"choice here\", \"d\": \"choice here\"}, \"correct\": \"correct answer \"}, \"q5\": {\"mcq\": \"Multiple Choice Question\", \"options\": {\"a\": \"choice here\", \"b\": \"choice here\", \"c\": \"choice here\", \"d\": \"choice here\"}, \"correct\": \"correct answer \"}}.\n",
      "\u001b[0m\n",
      "\n",
      "\u001b[1m> Finished chain.\u001b[0m\n",
      "\n",
      "\n",
      "\u001b[1m> Entering new LLMChain chain...\u001b[0m\n",
      "Prompt after formatting:\n",
      "\u001b[32;1m\u001b[1;3m\n",
      "Text:The term machine learning was coined in 1959 by Arthur Samuel, an IBM employee and pioneer in the field of computer gaming and artificial intelligence.[8][9] The synonym self-teaching computers was also used in this time period.[10][11]\n",
      "\n",
      "Although the earliest machine learning model was introduced in the 1950s when Arthur Samuel invented a program that calculated the winning chance in checkers for each side, the history of machine learning roots back to decades of human desire and effort to study human cognitive processes.[12] In 1949, Canadian psychologist Donald Hebb published the book The Organization of Behavior, in which he introduced a theoretical neural structure formed by certain interactions among nerve cells.[13] Hebb's model of neurons interacting with one another set a groundwork for how AIs and machine learning algorithms work under nodes, or artificial neurons used by computers to communicate data.[12] Other researchers who have studied human cognitive systems contributed to the modern machine learning technologies as well, including logician Walter Pitts and Warren McCulloch, who proposed the early mathematical models of neural networks to come up with algorithms that mirror human thought processes.[12]\n",
      "\n",
      "By the early 1960s an experimental \"learning machine\" with punched tape memory, called Cybertron, had been developed by Raytheon Company to analyze sonar signals, electrocardiograms, and speech patterns using rudimentary reinforcement learning. It was repetitively \"trained\" by a human operator/teacher to recognize patterns and equipped with a \"goof\" button to cause it to reevaluate incorrect decisions.[14] A representative book on research into machine learning during the 1960s was Nilsson's book on Learning Machines, dealing mostly with machine learning for pattern classification.[15] Interest related to pattern recognition continued into the 1970s, as described by Duda and Hart in 1973.[16] In 1981 a report was given on using teaching strategies so that an artificial neural network learns to recognize 40 characters (26 letters, 10 digits, and 4 special symbols) from a computer terminal.[17]\n",
      "\n",
      "Tom M. Mitchell provided a widely quoted, more formal definition of the algorithms studied in the machine learning field: \"A computer program is said to learn from experience E with respect to some class of tasks T and performance measure P if its performance at tasks in T, as measured by P, improves with experience E.\"[18] This definition of the tasks in which machine learning is concerned offers a fundamentally operational definition rather than defining the field in cognitive terms. This follows Alan Turing's proposal in his paper \"Computing Machinery and Intelligence\", in which the question \"Can machines think?\" is replaced with the question \"Can machines do what we (as thinking entities) can do?\".[19]\n",
      "\n",
      "Modern-day machine learning has two objectives. One is to classify data based on models which have been developed; the other purpose is to make predictions for future outcomes based on these models. A hypothetical algorithm specific to classifying data may use computer vision of moles coupled with supervised learning in order to train it to classify the cancerous moles. A machine learning algorithm for stock trading may inform the trader of future potential predictions.[20]\n",
      "You are an expert MCQ Generator. Generate MCQ based on the given text. is your job to create a quiz of (5,) multiple choice questions for ('Machine Learning',) students in ('MEDIUM',)The number is (5,). The subject is ('Machine Learning',). The tone is ('MEDIUM',). Make sure the question are note repeated and check all the questions to be conforming the text as well\n",
      ",Make sure to format the response is like RESPONSE_JSON below and use it is as guide. Ensure to make (5,) MCQs\n",
      "### RESPONSE_JSON\n",
      "{\"q1\": {\"mcq\": \"Multiple Choice Question\", \"options\": {\"a\": \"choice here\", \"b\": \"choice here\", \"c\": \"choice here\", \"d\": \"choice here\"}, \"correct\": \"correct answer \"}, \"q2\": {\"mcq\": \"Multiple Choice Question\", \"options\": {\"a\": \"choice here\", \"b\": \"choice here\", \"c\": \"choice here\", \"d\": \"choice here\"}, \"correct\": \"correct answer \"}, \"q3\": {\"mcq\": \"Multiple Choice Question\", \"options\": {\"a\": \"choice here\", \"b\": \"choice here\", \"c\": \"choice here\", \"d\": \"choice here\"}, \"correct\": \"correct answer \"}, \"q4\": {\"mcq\": \"Multiple Choice Question\", \"options\": {\"a\": \"choice here\", \"b\": \"choice here\", \"c\": \"choice here\", \"d\": \"choice here\"}, \"correct\": \"correct answer \"}, \"q5\": {\"mcq\": \"Multiple Choice Question\", \"options\": {\"a\": \"choice here\", \"b\": \"choice here\", \"c\": \"choice here\", \"d\": \"choice here\"}, \"correct\": \"correct answer \"}}.\n",
      "\u001b[0m\n",
      "\n",
      "\u001b[1m> Finished chain.\u001b[0m\n",
      "\n",
      "\u001b[1m> Finished chain.\u001b[0m\n"
     ]
    }
   ],
   "source": [
    "# How to setup tokens usage tracking in Langchain\n",
    "\n",
    "with get_openai_callback() as cb:\n",
    "    response = final_chain(\n",
    "        {\n",
    "            \"text\":TEXT,\n",
    "            \"number\":NUMBER,\n",
    "            \"subject\":SUBJECT,\n",
    "            \"tone\":TONE,\n",
    "            \"response_json\":json_str}\n",
    "    )"
   ]
  },
  {
   "cell_type": "code",
   "execution_count": 73,
   "metadata": {},
   "outputs": [
    {
     "name": "stdout",
     "output_type": "stream",
     "text": [
      "Total Tokens:2880\n",
      "Prompt Tokens:2074\n",
      "Completion Tokens:806\n",
      "Total Cost:0.004723\n"
     ]
    }
   ],
   "source": [
    "print(f\"Total Tokens:{cb.total_tokens}\")\n",
    "print(f\"Prompt Tokens:{cb.prompt_tokens}\")\n",
    "print(f\"Completion Tokens:{cb.completion_tokens}\")\n",
    "print(f\"Total Cost:{cb.total_cost}\")"
   ]
  },
  {
   "cell_type": "code",
   "execution_count": 74,
   "metadata": {},
   "outputs": [
    {
     "data": {
      "text/plain": [
       "{'text': 'The term machine learning was coined in 1959 by Arthur Samuel, an IBM employee and pioneer in the field of computer gaming and artificial intelligence.[8][9] The synonym self-teaching computers was also used in this time period.[10][11]\\n\\nAlthough the earliest machine learning model was introduced in the 1950s when Arthur Samuel invented a program that calculated the winning chance in checkers for each side, the history of machine learning roots back to decades of human desire and effort to study human cognitive processes.[12] In 1949, Canadian psychologist Donald Hebb published the book The Organization of Behavior, in which he introduced a theoretical neural structure formed by certain interactions among nerve cells.[13] Hebb\\'s model of neurons interacting with one another set a groundwork for how AIs and machine learning algorithms work under nodes, or artificial neurons used by computers to communicate data.[12] Other researchers who have studied human cognitive systems contributed to the modern machine learning technologies as well, including logician Walter Pitts and Warren McCulloch, who proposed the early mathematical models of neural networks to come up with algorithms that mirror human thought processes.[12]\\n\\nBy the early 1960s an experimental \"learning machine\" with punched tape memory, called Cybertron, had been developed by Raytheon Company to analyze sonar signals, electrocardiograms, and speech patterns using rudimentary reinforcement learning. It was repetitively \"trained\" by a human operator/teacher to recognize patterns and equipped with a \"goof\" button to cause it to reevaluate incorrect decisions.[14] A representative book on research into machine learning during the 1960s was Nilsson\\'s book on Learning Machines, dealing mostly with machine learning for pattern classification.[15] Interest related to pattern recognition continued into the 1970s, as described by Duda and Hart in 1973.[16] In 1981 a report was given on using teaching strategies so that an artificial neural network learns to recognize 40 characters (26 letters, 10 digits, and 4 special symbols) from a computer terminal.[17]\\n\\nTom M. Mitchell provided a widely quoted, more formal definition of the algorithms studied in the machine learning field: \"A computer program is said to learn from experience E with respect to some class of tasks T and performance measure P if its performance at tasks in T, as measured by P, improves with experience E.\"[18] This definition of the tasks in which machine learning is concerned offers a fundamentally operational definition rather than defining the field in cognitive terms. This follows Alan Turing\\'s proposal in his paper \"Computing Machinery and Intelligence\", in which the question \"Can machines think?\" is replaced with the question \"Can machines do what we (as thinking entities) can do?\".[19]\\n\\nModern-day machine learning has two objectives. One is to classify data based on models which have been developed; the other purpose is to make predictions for future outcomes based on these models. A hypothetical algorithm specific to classifying data may use computer vision of moles coupled with supervised learning in order to train it to classify the cancerous moles. A machine learning algorithm for stock trading may inform the trader of future potential predictions.[20]',\n",
       " 'number': (5,),\n",
       " 'subject': ('Machine Learning',),\n",
       " 'tone': ('MEDIUM',),\n",
       " 'response_json': '{\"q1\": {\"mcq\": \"Multiple Choice Question\", \"options\": {\"a\": \"choice here\", \"b\": \"choice here\", \"c\": \"choice here\", \"d\": \"choice here\"}, \"correct\": \"correct answer \"}, \"q2\": {\"mcq\": \"Multiple Choice Question\", \"options\": {\"a\": \"choice here\", \"b\": \"choice here\", \"c\": \"choice here\", \"d\": \"choice here\"}, \"correct\": \"correct answer \"}, \"q3\": {\"mcq\": \"Multiple Choice Question\", \"options\": {\"a\": \"choice here\", \"b\": \"choice here\", \"c\": \"choice here\", \"d\": \"choice here\"}, \"correct\": \"correct answer \"}, \"q4\": {\"mcq\": \"Multiple Choice Question\", \"options\": {\"a\": \"choice here\", \"b\": \"choice here\", \"c\": \"choice here\", \"d\": \"choice here\"}, \"correct\": \"correct answer \"}, \"q5\": {\"mcq\": \"Multiple Choice Question\", \"options\": {\"a\": \"choice here\", \"b\": \"choice here\", \"c\": \"choice here\", \"d\": \"choice here\"}, \"correct\": \"correct answer \"}}',\n",
       " 'quiz': '{\\n\"q1\": {\\n\"mcq\": \"What term was coined in 1959 by Arthur Samuel to describe the field of computer gaming and artificial intelligence?\",\\n\"options\": {\\n\"a\": \"Artificial Intelligence\",\\n\"b\": \"Machine Learning\",\\n\"c\": \"Computer Gaming\",\\n\"d\": \"Self-Teaching Computers\"\\n},\\n\"correct\": \"b\"\\n},\\n\"q2\": {\\n\"mcq\": \"Who published the book \\'The Organization of Behavior\\' in 1949, introducing a theoretical neural structure?\",\\n\"options\": {\\n\"a\": \"Arthur Samuel\",\\n\"b\": \"Donald Hebb\",\\n\"c\": \"Walter Pitts\",\\n\"d\": \"Warren McCulloch\"\\n},\\n\"correct\": \"b\"\\n},\\n\"q3\": {\\n\"mcq\": \"In the 1960s, what experimental \\'learning machine\\' was developed by Raytheon Company to analyze sonar signals and speech patterns?\",\\n\"options\": {\\n\"a\": \"Cybertron\",\\n\"b\": \"HAL 9000\",\\n\"c\": \"Deep Blue\",\\n\"d\": \"R2-D2\"\\n},\\n\"correct\": \"a\"\\n},\\n\"q4\": {\\n\"mcq\": \"According to Tom M. Mitchell, what is the definition of machine learning algorithms?\",\\n\"options\": {\\n\"a\": \"Learning from experience with respect to tasks and performance\",\\n\"b\": \"Learning from textbooks with respect to tasks and performance\",\\n\"c\": \"Learning from videos with respect to tasks and performance\",\\n\"d\": \"Learning from lectures with respect to tasks and performance\"\\n},\\n\"correct\": \"a\"\\n},\\n\"q5\": {\\n\"mcq\": \"What are the two objectives of modern-day machine learning?\",\\n\"options\": {\\n\"a\": \"To play games and watch movies\",\\n\"b\": \"To classify data and make predictions\",\\n\"c\": \"To cook food and clean the house\",\\n\"d\": \"To drive cars and fly planes\"\\n},\\n\"correct\": \"b\"\\n}\\n}',\n",
       " 'evaluation': '{\\n\"q1\": {\\n\"mcq\": \"What term was coined by Arthur Samuel in 1959 to describe the field of computer gaming and artificial intelligence?\",\\n\"options\": {\\n\"a\": \"Artificial Intelligence\",\\n\"b\": \"Machine Learning\",\\n\"c\": \"Computer Gaming\",\\n\"d\": \"Self-Teaching Computers\"\\n},\\n\"correct\": \"b\"\\n},\\n\"q2\": {\\n\"mcq\": \"Who published the book \\'The Organization of Behavior\\' in 1949, introducing a theoretical neural structure that influenced the development of machine learning?\",\\n\"options\": {\\n\"a\": \"Arthur Samuel\",\\n\"b\": \"Donald Hebb\",\\n\"c\": \"Walter Pitts\",\\n\"d\": \"Warren McCulloch\"\\n},\\n\"correct\": \"b\"\\n},\\n\"q3\": {\\n\"mcq\": \"What was the name of the experimental \\'learning machine\\' developed by Raytheon Company in the early 1960s?\",\\n\"options\": {\\n\"a\": \"Cyberdyne\",\\n\"b\": \"Cybernetics\",\\n\"c\": \"Cybertron\",\\n\"d\": \"Cyberspace\"\\n},\\n\"correct\": \"c\"\\n},\\n\"q4\": {\\n\"mcq\": \"According to Tom M. Mitchell, what is the definition of a computer program learning from experience in the field of machine learning?\",\\n\"options\": {\\n\"a\": \"Improving performance at tasks in T\",\\n\"b\": \"Improving performance at tasks in P\",\\n\"c\": \"Improving performance at tasks in E\",\\n\"d\": \"Improving performance at tasks in T, as measured by P\"\\n},\\n\"correct\": \"d\"\\n},\\n\"q5\": {\\n\"mcq\": \"What are the two main objectives of modern-day machine learning as mentioned in the text?\",\\n\"options\": {\\n\"a\": \"To develop new algorithms and models\",\\n\"b\": \"To classify data and make predictions\",\\n\"c\": \"To analyze historical data and predict future outcomes\",\\n\"d\": \"To create artificial intelligence systems\"\\n},\\n\"correct\": \"b\"\\n}\\n}'}"
      ]
     },
     "execution_count": 74,
     "metadata": {},
     "output_type": "execute_result"
    }
   ],
   "source": [
    "response"
   ]
  },
  {
   "cell_type": "code",
   "execution_count": 80,
   "metadata": {},
   "outputs": [
    {
     "name": "stdout",
     "output_type": "stream",
     "text": [
      "<class 'dict'>\n"
     ]
    }
   ],
   "source": [
    "print(type(response))"
   ]
  },
  {
   "cell_type": "code",
   "execution_count": 82,
   "metadata": {},
   "outputs": [],
   "source": [
    "quiz=response.get(\"quiz\")"
   ]
  },
  {
   "cell_type": "code",
   "execution_count": 83,
   "metadata": {},
   "outputs": [
    {
     "name": "stdout",
     "output_type": "stream",
     "text": [
      "<class 'str'>\n"
     ]
    }
   ],
   "source": [
    "print(type(quiz))"
   ]
  },
  {
   "cell_type": "code",
   "execution_count": 84,
   "metadata": {},
   "outputs": [],
   "source": [
    "quiz = json.loads(quiz)"
   ]
  },
  {
   "cell_type": "code",
   "execution_count": 86,
   "metadata": {},
   "outputs": [
    {
     "data": {
      "text/plain": [
       "{'q1': {'mcq': 'What term was coined in 1959 by Arthur Samuel to describe the field of computer gaming and artificial intelligence?',\n",
       "  'options': {'a': 'Artificial Intelligence',\n",
       "   'b': 'Machine Learning',\n",
       "   'c': 'Computer Gaming',\n",
       "   'd': 'Self-Teaching Computers'},\n",
       "  'correct': 'b'},\n",
       " 'q2': {'mcq': \"Who published the book 'The Organization of Behavior' in 1949, introducing a theoretical neural structure?\",\n",
       "  'options': {'a': 'Arthur Samuel',\n",
       "   'b': 'Donald Hebb',\n",
       "   'c': 'Walter Pitts',\n",
       "   'd': 'Warren McCulloch'},\n",
       "  'correct': 'b'},\n",
       " 'q3': {'mcq': \"In the 1960s, what experimental 'learning machine' was developed by Raytheon Company to analyze sonar signals and speech patterns?\",\n",
       "  'options': {'a': 'Cybertron',\n",
       "   'b': 'HAL 9000',\n",
       "   'c': 'Deep Blue',\n",
       "   'd': 'R2-D2'},\n",
       "  'correct': 'a'},\n",
       " 'q4': {'mcq': 'According to Tom M. Mitchell, what is the definition of machine learning algorithms?',\n",
       "  'options': {'a': 'Learning from experience with respect to tasks and performance',\n",
       "   'b': 'Learning from textbooks with respect to tasks and performance',\n",
       "   'c': 'Learning from videos with respect to tasks and performance',\n",
       "   'd': 'Learning from lectures with respect to tasks and performance'},\n",
       "  'correct': 'a'},\n",
       " 'q5': {'mcq': 'What are the two objectives of modern-day machine learning?',\n",
       "  'options': {'a': 'To play games and watch movies',\n",
       "   'b': 'To classify data and make predictions',\n",
       "   'c': 'To cook food and clean the house',\n",
       "   'd': 'To drive cars and fly planes'},\n",
       "  'correct': 'b'}}"
      ]
     },
     "execution_count": 86,
     "metadata": {},
     "output_type": "execute_result"
    }
   ],
   "source": [
    "#print(type(quiz))\n",
    "quiz"
   ]
  },
  {
   "cell_type": "code",
   "execution_count": 78,
   "metadata": {},
   "outputs": [],
   "source": [
    "quiz_table_data = []\n",
    "for key, value in quiz.items():\n",
    "    mcq = value[\"mcq\"]\n",
    "    options = \" | \".join(\n",
    "        [\n",
    "            f\"{option}: {option_value}\"\n",
    "            for option, option_value in value[\"options\"].items()\n",
    "            ]\n",
    "        )\n",
    "    correct = value[\"correct\"]\n",
    "    quiz_table_data.append({\"MCQ\": mcq, \"Choices\": options, \"Correct\": correct})"
   ]
  },
  {
   "cell_type": "code",
   "execution_count": 79,
   "metadata": {},
   "outputs": [
    {
     "data": {
      "text/plain": [
       "[{'MCQ': 'What term was coined in 1959 by Arthur Samuel to describe the field of computer gaming and artificial intelligence?',\n",
       "  'Choices': 'a: Neural Networks | b: Machine Learning | c: Artificial Intelligence | d: Computer Vision',\n",
       "  'Correct': 'b: Machine Learning'},\n",
       " {'MCQ': \"Who published the book 'The Organization of Behavior' in 1949, introducing a theoretical neural structure?\",\n",
       "  'Choices': 'a: Arthur Samuel | b: Walter Pitts | c: Donald Hebb | d: Warren McCulloch',\n",
       "  'Correct': 'c: Donald Hebb'},\n",
       " {'MCQ': \"Which company developed the experimental 'learning machine' called Cybertron in the early 1960s?\",\n",
       "  'Choices': 'a: IBM | b: Raytheon Company | c: Microsoft | d: Google',\n",
       "  'Correct': 'b: Raytheon Company'},\n",
       " {'MCQ': 'Who provided a formal definition of the algorithms studied in the machine learning field?',\n",
       "  'Choices': 'a: Tom M. Mitchell | b: Alan Turing | c: Arthur Samuel | d: Donald Hebb',\n",
       "  'Correct': 'a: Tom M. Mitchell'},\n",
       " {'MCQ': 'What is one of the objectives of modern-day machine learning according to the text?',\n",
       "  'Choices': 'a: To build robots | b: To predict the weather | c: To classify data based on models | d: To perform surgery',\n",
       "  'Correct': 'c: To classify data based on models'}]"
      ]
     },
     "execution_count": 79,
     "metadata": {},
     "output_type": "execute_result"
    }
   ],
   "source": [
    "quiz_table_data"
   ]
  },
  {
   "cell_type": "code",
   "execution_count": 91,
   "metadata": {},
   "outputs": [],
   "source": [
    "\n",
    "quiz = pd.DataFrame(quiz_table_data)"
   ]
  },
  {
   "cell_type": "code",
   "execution_count": 92,
   "metadata": {},
   "outputs": [
    {
     "data": {
      "text/html": [
       "<div>\n",
       "<style scoped>\n",
       "    .dataframe tbody tr th:only-of-type {\n",
       "        vertical-align: middle;\n",
       "    }\n",
       "\n",
       "    .dataframe tbody tr th {\n",
       "        vertical-align: top;\n",
       "    }\n",
       "\n",
       "    .dataframe thead th {\n",
       "        text-align: right;\n",
       "    }\n",
       "</style>\n",
       "<table border=\"1\" class=\"dataframe\">\n",
       "  <thead>\n",
       "    <tr style=\"text-align: right;\">\n",
       "      <th></th>\n",
       "      <th>MCQ</th>\n",
       "      <th>Choices</th>\n",
       "      <th>Correct</th>\n",
       "    </tr>\n",
       "  </thead>\n",
       "  <tbody>\n",
       "    <tr>\n",
       "      <th>0</th>\n",
       "      <td>What term was coined in 1959 by Arthur Samuel ...</td>\n",
       "      <td>a: Neural Networks | b: Machine Learning | c: ...</td>\n",
       "      <td>b: Machine Learning</td>\n",
       "    </tr>\n",
       "    <tr>\n",
       "      <th>1</th>\n",
       "      <td>Who published the book 'The Organization of Be...</td>\n",
       "      <td>a: Arthur Samuel | b: Walter Pitts | c: Donald...</td>\n",
       "      <td>c: Donald Hebb</td>\n",
       "    </tr>\n",
       "    <tr>\n",
       "      <th>2</th>\n",
       "      <td>Which company developed the experimental 'lear...</td>\n",
       "      <td>a: IBM | b: Raytheon Company | c: Microsoft | ...</td>\n",
       "      <td>b: Raytheon Company</td>\n",
       "    </tr>\n",
       "    <tr>\n",
       "      <th>3</th>\n",
       "      <td>Who provided a formal definition of the algori...</td>\n",
       "      <td>a: Tom M. Mitchell | b: Alan Turing | c: Arthu...</td>\n",
       "      <td>a: Tom M. Mitchell</td>\n",
       "    </tr>\n",
       "    <tr>\n",
       "      <th>4</th>\n",
       "      <td>What is one of the objectives of modern-day ma...</td>\n",
       "      <td>a: To build robots | b: To predict the weather...</td>\n",
       "      <td>c: To classify data based on models</td>\n",
       "    </tr>\n",
       "  </tbody>\n",
       "</table>\n",
       "</div>"
      ],
      "text/plain": [
       "                                                 MCQ  \\\n",
       "0  What term was coined in 1959 by Arthur Samuel ...   \n",
       "1  Who published the book 'The Organization of Be...   \n",
       "2  Which company developed the experimental 'lear...   \n",
       "3  Who provided a formal definition of the algori...   \n",
       "4  What is one of the objectives of modern-day ma...   \n",
       "\n",
       "                                             Choices  \\\n",
       "0  a: Neural Networks | b: Machine Learning | c: ...   \n",
       "1  a: Arthur Samuel | b: Walter Pitts | c: Donald...   \n",
       "2  a: IBM | b: Raytheon Company | c: Microsoft | ...   \n",
       "3  a: Tom M. Mitchell | b: Alan Turing | c: Arthu...   \n",
       "4  a: To build robots | b: To predict the weather...   \n",
       "\n",
       "                               Correct  \n",
       "0                  b: Machine Learning  \n",
       "1                       c: Donald Hebb  \n",
       "2                  b: Raytheon Company  \n",
       "3                   a: Tom M. Mitchell  \n",
       "4  c: To classify data based on models  "
      ]
     },
     "execution_count": 92,
     "metadata": {},
     "output_type": "execute_result"
    }
   ],
   "source": [
    "quiz"
   ]
  },
  {
   "cell_type": "code",
   "execution_count": 89,
   "metadata": {},
   "outputs": [],
   "source": [
    "quiz.to_csv(\"MachineLearningQuiz.csv\",index=False)"
   ]
  },
  {
   "cell_type": "code",
   "execution_count": 90,
   "metadata": {},
   "outputs": [
    {
     "data": {
      "text/plain": [
       "'2024-08-04 12:10:43'"
      ]
     },
     "execution_count": 90,
     "metadata": {},
     "output_type": "execute_result"
    }
   ],
   "source": [
    "from datetime import datetime\n",
    "datetime.now().strftime(\"%Y-%m-%d %H:%M:%S\")"
   ]
  }
 ],
 "metadata": {
  "kernelspec": {
   "display_name": "generator",
   "language": "python",
   "name": "python3"
  },
  "language_info": {
   "codemirror_mode": {
    "name": "ipython",
    "version": 3
   },
   "file_extension": ".py",
   "mimetype": "text/x-python",
   "name": "python",
   "nbconvert_exporter": "python",
   "pygments_lexer": "ipython3",
   "version": "3.9.19"
  }
 },
 "nbformat": 4,
 "nbformat_minor": 2
}
